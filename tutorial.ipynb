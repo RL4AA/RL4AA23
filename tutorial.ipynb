{
 "cells": [
  {
   "cell_type": "markdown",
   "metadata": {},
   "source": [
    "<h1 style=\"text-align: center; vertical-align: middle;\">Reinforcement learning for focusing and steering tasks</h1>\n",
    "<h2 style=\"text-align: center; vertical-align: middle;\">Use case: ARES linear accelerator at DESY</h2>\n",
    "\n",
    "<h3 style=\"text-align: center; vertical-align: middle;\">Implementation example for RL4AA'23 workshop</h3>\n",
    "\n",
    "<p style=\"text-align: center\">Jan Kaiser, Chenran Xu, Andrea Santamaria Garcia, Simon Hirländer</p>"
   ]
  },
  {
   "cell_type": "markdown",
   "metadata": {
    "slideshow": {
     "slide_type": "slide"
    }
   },
   "source": [
    "<h2 style=\"color: #b51f2a\">1. ARES (Accelerator Research Experiment at SINBAD)</h2>\n",
    "ARES is an S-band radio frequency linac at the DESY Hamburg site equipped with a photoinjector and two independently driven traveling wave accelerating structures. The main research focus is the generation and characterization of sub-femtosecond electron bunches at relativistic particle energy. The generation of short electron bunches is of high interest for radiation generation, i.e. by free electron lasers.\n",
    "\n",
    "<img src=\"img/ARES_layout.png\" width=\"100%\"/>\n",
    "\n",
    "- **Final energy**: 100-155 MeV\n",
    "- **Bunch charge**: 0.5-30 pC\n",
    "- **Bunch length**: 0.2-10 fs\n",
    "- **Pulse repetition rate**: 10-50 Hz"
   ]
  },
  {
   "cell_type": "markdown",
   "metadata": {
    "slideshow": {
     "slide_type": "slide"
    }
   },
   "source": [
    "<h2 style=\"color: #b51f2a\">2. The accelerator problem we want to solve</h2>\n",
    "\n",
    "<h3 style=\"text-align: center; vertical-align: middle;\">We would like to focus and center the electron beam on a diagnostic screen using corrector and quadrupole magnets</h3>\n",
    "\n",
    "<img src=\"img/ares_magnets.png\" width=\"70%\"/>"
   ]
  },
  {
   "cell_type": "markdown",
   "metadata": {
    "slideshow": {
     "slide_type": "slide"
    }
   },
   "source": [
    "<h2 style=\"color: #b51f2a\">3. Formulating the RL problem</h2>\n",
    "<h3>3.1. Refresher from the lecture: the main elements</h3>\n",
    "<img src=\"img/rl_problem_2.png\" width=\"70%\"/>"
   ]
  },
  {
   "cell_type": "markdown",
   "metadata": {
    "slideshow": {
     "slide_type": "slide"
    }
   },
   "source": [
    "<h2 style=\"color: #b51f2a\">3. Formulating the RL problem</h2>\n",
    "<h3>3.2. Adaptation to our study case</h3>\n",
    "<img src=\"img/ares_rl_problem.png\" width=\"70%\"/>\n",
    "\n",
    "<h3>3.3. Questions</h3>\n",
    "\n",
    "Let's think about the characteristics of our problem:\n",
    "    \n",
    "- Is the action space discrete or continuous?\n",
    "- Is it a stationary (deterministic) problem or not?"
   ]
  },
  {
   "cell_type": "markdown",
   "metadata": {
    "slideshow": {
     "slide_type": "slide"
    }
   },
   "source": [
    "<h2 style=\"color: #b51f2a\">Actions</h2>\n",
    "<h3>Quick refresher on accelerator magnets</h3>\n",
    "\n",
    "- Fast-pulsed, normal conducting electromagnets\n",
    "- \"C\" dipole\n",
    "\n",
    "- Kicks and strengths of magnets (deltas)"
   ]
  },
  {
   "cell_type": "markdown",
   "metadata": {
    "slideshow": {
     "slide_type": "slide"
    }
   },
   "source": [
    "<h2 style=\"color: #b51f2a\">Observation</h2>\n",
    "\n",
    " - Trial observations: pixels of the screen\n",
    "    - Easier ... we already have way of measuring beam, this way only 4-dim observation\n",
    "    - Feautre engineering\n",
    "\n",
    " - parameters of fitted Gaussian + magnet kicks and strengths"
   ]
  },
  {
   "cell_type": "markdown",
   "metadata": {
    "slideshow": {
     "slide_type": "slide"
    }
   },
   "source": [
    "<h2 style=\"color: #b51f2a\">Goal and Reward</h2>\n",
    "<img src=\"img/rl_problem_1.png\" width=\"70%\"/>\n",
    "\n",
    " - Show reward formulars (and code?)"
   ]
  },
  {
   "cell_type": "markdown",
   "metadata": {
    "slideshow": {
     "slide_type": "slide"
    }
   },
   "source": [
    "<h2 style=\"color: #b51f2a\">Environment</h2>\n",
    "\n",
    " - Gym environment\n",
    " - Simulation code\n",
    " - Ocelot at the beginning -> too slow -> Cheetah"
   ]
  },
  {
   "cell_type": "markdown",
   "metadata": {
    "slideshow": {
     "slide_type": "slide"
    }
   },
   "source": [
    "<h2 style=\"color: #b51f2a\">Agent</h2>\n",
    "\n",
    "- SB3\n",
    "- PPO / TD3\n",
    "- Anotnin Raffin decision graphic\n",
    "    - Decision discussion (interactive, what would be sensible choice?)"
   ]
  },
  {
   "cell_type": "markdown",
   "metadata": {
    "slideshow": {
     "slide_type": "slide"
    }
   },
   "source": [
    "<h2 style=\"color: #b51f2a\">4. Algorithm implementation</h2>"
   ]
  },
  {
   "cell_type": "code",
   "execution_count": 1,
   "metadata": {
    "slideshow": {
     "slide_type": "slide"
    }
   },
   "outputs": [],
   "source": [
    "from time import sleep\n",
    "\n",
    "import names\n",
    "import numpy as np\n",
    "from stable_baselines3 import PPO\n",
    "\n",
    "from utils.train import train as train_ares_ea\n",
    "from utils.train import make_env, read_from_yaml\n",
    "from utils.helpers import (\n",
    "    evaluate_ares_ea_agent,\n",
    "    make_ares_ea_training_videos,\n",
    "    plot_ares_ea_training_history,\n",
    "    show_video,\n",
    ")\n",
    "from utils.utils import NotVecNormalize\n"
   ]
  },
  {
   "cell_type": "markdown",
   "metadata": {},
   "source": [
    "Training a good agent revolves primarily around finding the right setup for the environment and the correct reward function. In order to iterate over and compare many different options, our training function takes a dictionary such as the one below.\n",
    "\n",
    "Feel free to change things and see how they might affect the final agents.\n",
    "\n",
    "**Note:** Traing can take a while. The actual function call is therefore commented out and we provide data from a training that we have prepared earlier."
   ]
  },
  {
   "cell_type": "markdown",
   "metadata": {},
   "source": [
    "### 📝 Notes on models\n",
    "Probably remove these notes later.\n",
    "\n",
    "Reward episodic design\n",
    "\n",
    " - **Suicidal (bad abort)**\n",
    "    - `\"abort_if_off_screen\": True`\n",
    "    - `\"reward_mode\": \"objective_improvement\"`\n",
    "    - `\"target_sigma_x_threshold\": None`\n",
    "    - `\"target_sigma_y_threshold\": None`\n",
    "    - `\"time_reward\": -1.0`\n",
    "    - `\"action_mode\": \"delta\"`\n",
    "- **\"Undetermined\" towards target**\n",
    "    - `\"abort_if_off_screen\": False`\n",
    "    - `\"reward_mode\": \"objective_improvement\"`\n",
    "    - `\"target_sigma_x_threshold\": None`\n",
    "    - `\"target_sigma_y_threshold\": None`\n",
    "    - `\"time_reward\": -0.0`\n",
    "    - `\"action_mode\": \"delta\"`\n",
    "- **Good direct towards target**\n",
    "    - `\"abort_if_off_screen\": False`\n",
    "    - `\"reward_mode\": \"negative_improvement\"`\n",
    "    - `\"target_sigma_x_threshold\": None`\n",
    "    - `\"target_sigma_y_threshold\": None`\n",
    "    - `\"time_reward\": -0.0`\n",
    "    - `\"action_mode\": \"delta\"`\n",
    "- **Suicidal (reward does not mean what you thought)**\n",
    "    - `\"abort_if_off_screen\": False`\n",
    "    - `\"reward_mode\": \"sum_of_pixels\"`\n",
    "    - `\"target_sigma_x_threshold\": None`\n",
    "    - `\"target_sigma_y_threshold\": None`\n",
    "    - `\"time_reward\": -0.0`\n",
    "    - `\"action_mode\": \"delta\"`\n",
    "- **Takes forever to train and fails in the real word**\n",
    "    - `\"abort_if_off_screen\": False`\n",
    "    - `\"reward_mode\": \"negative_improvement\"`\n",
    "    - `\"target_sigma_x_threshold\": None`\n",
    "    - `\"target_sigma_y_threshold\": None`\n",
    "    - `\"time_reward\": -0.0`\n",
    "    - `\"action_mode\": \"direct\"`"
   ]
  },
  {
   "cell_type": "markdown",
   "metadata": {},
   "source": [
    "#### Configurations\n",
    "\n",
    "In the following, we import a config dictionary to set up the training. This allows us to easily switch between different training conditions. The parameters can mostly be divided into two parts.\n",
    "__1. Environment configurations__\n",
    "\n",
    "- `abort_if_off_screen` If this property is set to True, episodes are aborted when the beam is no longer on the screen.\n",
    "- `action_mode` Set directly the magnet strength or set a delta action. You may set this to `\"direct\"` or `\"delta\"`. You should find that \"delta\" trains faster. Setting \"delta\" is also crucial in running the agent on the real accelerator.\n",
    "- `filter_action`: Which of the five magnets to use, in order of `(Q1,Q2,CV,Q3,CH)`. For example, set to `[0,1,3]` to only train focusing or to None to train positioning and focusing (hard).\n",
    "- `filter_observation`: Setting this to None will include misalignments and incoming beam in the observation. Change to `[\"beam\",\"magnets\"]` for it to be like the real world.\n",
    "- `magnet_init_mode`: How magnet strengths will be initialized after `env.reset()` You can have the magnets always start at the same constant settings during training. This can be useful if you know the solution to be near some settings. To achieve this, set `\"magnet_init_mode\"` to \"constant\" and `\"magnet_init_values\"` to a NumPy array of five values in the order that the magnets are passed by the beam. Otherwise set \"magnet_init_mode\" to \"random\" and the magnets will always start at different settings.\n",
    "- `magnet_init_values`: Initial values of the magnet strengths.\n",
    "- `misalignment_mode`: Misalignments of the objects. Set `\"misalignment_mode\"` to `\"constant\"` and `\"misalignment_values\"` to turn misalignments off. Otherwise set `\"misalignment_mode\"` to `\"random\"`.\n",
    "- `misalignment_values`: Magnet misalignmets in the order of `[Q1_x,Q1_y,Q2_x,Q2_y,Q3_x,Q3_y,Screen_x,Screen_y]` in unit of \\[m\\].\n",
    "- `reward_mode`: How the reward is calculated. Can be set to \"feedback\" for punishment proportional to distance to target beam (r = negative objective), or set to \"delta\" for reward based on improvement of the distance to the target beam (r = previous objective - current objective).\n",
    "- `rescale_action`: Takes the limits of the magnet settings and scale them into the following range.\n",
    "- `time_limit`: Number of interactions the agent gets to tune the magnets within one episode.\n",
    "- `time_reward`: Whether the agent will be penalized for making another step, this is intended to make the tuning faster.\n",
    "- `target_beam_mode`, `target_beam_values`: `[0,0,0,0]` sets the target beam during training to always the perfectly centered and focused as small as possible. Set \"target_beam_values\" in order (x, width, y, height) to specialise on a different target beam or set \"target_beam_mode\" to \"random\" to generalise over target beams.\n",
    "- `target_mu_x_threshold`,`target_mu_y_threshold`,`target_sigma_x_threshold`, `target_sigma_y_threshold`: Thresholds for beam parameters. If all beam parameters are within the threshold from their target, episodes will end and the agent will stop optimising.\n",
    "\n",
    "__2. Training configurations__\n",
    "- `gamma`: Discount factor of the RL problem. Set lower to make rewards now more important than rewards later (usually above 0.9)\n",
    "- `batch_size`: Batch size of the neural network training in the PPO algorithm\n",
    "- `n_envs`: Changes the number of simulations that are trained on concurrently\n",
    "- `n_steps`: Changes the number of steps that data is gathered for from all simulations before training the policy in each iteration of the PPO algorithm.\n",
    "- `normalize_observation`: Normalise observations throughout training by fitting a running mean and standard deviation of them.\n",
    "- `normalize_reward`: Normalise rewards throughout training by fitting a running mean and standard deviation of them.\n",
    "- `total_timesteps`: Number of interactions with the environment that the agent is allowed to traing for.\n",
    "- `threshold_hold`: Number of steps that beam parameters must be within threshold for the episode to end. Higher values make agnets not just pass by the target, but actually stop."
   ]
  },
  {
   "cell_type": "code",
   "execution_count": 2,
   "metadata": {},
   "outputs": [
    {
     "name": "stdout",
     "output_type": "stream",
     "text": [
      "==> Training agent \"John Black\"\n",
      "Eval num_timesteps=20000, episode_reward=-17.34 +/- 1.05\n",
      "Episode length: 25.00 +/- 0.00\n",
      "New best mean reward!\n",
      "Eval num_timesteps=40000, episode_reward=-10.89 +/- 1.13\n",
      "Episode length: 25.00 +/- 0.00\n",
      "New best mean reward!\n",
      "Eval num_timesteps=60000, episode_reward=-6.73 +/- 0.61\n",
      "Episode length: 25.00 +/- 0.00\n",
      "New best mean reward!\n",
      "Eval num_timesteps=80000, episode_reward=-4.97 +/- 0.72\n",
      "Episode length: 25.00 +/- 0.00\n",
      "New best mean reward!\n",
      "Eval num_timesteps=100000, episode_reward=-5.07 +/- 1.07\n",
      "Episode length: 25.00 +/- 0.00\n",
      "Eval num_timesteps=120000, episode_reward=-5.35 +/- 1.64\n",
      "Episode length: 25.00 +/- 0.00\n",
      "Eval num_timesteps=140000, episode_reward=-3.67 +/- 0.60\n",
      "Episode length: 25.00 +/- 0.00\n",
      "New best mean reward!\n",
      "Eval num_timesteps=160000, episode_reward=-3.80 +/- 1.59\n",
      "Episode length: 25.00 +/- 0.00\n",
      "Eval num_timesteps=180000, episode_reward=-6.72 +/- 2.84\n",
      "Episode length: 25.00 +/- 0.00\n",
      "Eval num_timesteps=200000, episode_reward=-4.39 +/- 0.75\n",
      "Episode length: 25.00 +/- 0.00\n",
      "Eval num_timesteps=220000, episode_reward=-4.07 +/- 0.84\n",
      "Episode length: 25.00 +/- 0.00\n",
      "Eval num_timesteps=240000, episode_reward=-4.98 +/- 1.39\n",
      "Episode length: 25.00 +/- 0.00\n",
      "Eval num_timesteps=260000, episode_reward=-4.74 +/- 1.98\n",
      "Episode length: 25.00 +/- 0.00\n",
      "Eval num_timesteps=280000, episode_reward=-5.54 +/- 1.65\n",
      "Episode length: 25.00 +/- 0.00\n",
      "Eval num_timesteps=300000, episode_reward=-5.22 +/- 1.29\n",
      "Episode length: 25.00 +/- 0.00\n"
     ]
    }
   ],
   "source": [
    "# Feel free to change some of the configurations here.\n",
    "config = {\n",
    "    \"abort_if_off_screen\": False,\n",
    "    \"action_mode\": \"delta\",\n",
    "    \"batch_size\": 100,\n",
    "    \"gamma\": 0.99,\n",
    "    # TODO Maybe include network architecture (could also speed up training)\n",
    "    \"filter_action\": [0,1,3],\n",
    "    \"filter_observation\": [\"beam\", \"magnets\"],\n",
    "    \"frame_stack\": None,\n",
    "    \"magnet_init_mode\": \"constant\",\n",
    "    \"magnet_init_values\": np.zeros(5),\n",
    "    \"misalignment_mode\": \"constant\",\n",
    "    \"misalignment_values\": np.zeros(8),\n",
    "    \"n_envs\": 40,\n",
    "    \"n_steps\": 40,\n",
    "    \"normalize_observation\": True,\n",
    "    \"normalize_reward\": True,\n",
    "    \"rescale_action\": (-3, 3),\n",
    "    \"reward_mode\": \"negative_objective\",\n",
    "    \"run_name\": names.get_full_name(),\n",
    "    \"target_beam_mode\": \"constant\",\n",
    "    \"target_beam_values\": np.zeros(4),\n",
    "    \"target_mu_x_threshold\": np.inf,\n",
    "    \"target_mu_y_threshold\": np.inf,\n",
    "    \"target_sigma_x_threshold\": None,\n",
    "    \"target_sigma_y_threshold\": None,\n",
    "    \"total_timesteps\": 300_000,\n",
    "    \"threshold_hold\": 5,\n",
    "    \"time_limit\": 25,\n",
    "    \"time_reward\": -0.0,\n",
    "    \"vec_env\": \"dummy\",\n",
    "}\n",
    "\n",
    "# Toggle comment to re-run the training (can take very long)\n",
    "train_ares_ea(config)\n"
   ]
  },
  {
   "cell_type": "markdown",
   "metadata": {},
   "source": [
    "As before we can look at the training metrics and check out videos taken at different stages of the training ..."
   ]
  },
  {
   "cell_type": "code",
   "execution_count": 3,
   "metadata": {},
   "outputs": [],
   "source": [
    "# TODO insert cell to change agent name from current to pre-trained"
   ]
  },
  {
   "cell_type": "code",
   "execution_count": 4,
   "metadata": {},
   "outputs": [
    {
     "data": {
      "image/png": "[encoded data removed]",
      "text/plain": [
       "<Figure size 1300x400 with 2 Axes>"
      ]
     },
     "metadata": {},
     "output_type": "display_data"
    }
   ],
   "source": [
    "# Training curves from this training\n",
    "# Change `config[\"run_name\"` to `\"ml_worksop` to see curves from example training.\n",
    "plot_ares_ea_training_history(config[\"run_name\"])\n"
   ]
  },
  {
   "attachments": {},
   "cell_type": "markdown",
   "metadata": {},
   "source": [
    "To look at videos of the agent during training, find the first output line of the training cell. Your agent should have a name (e.g. *Fred Rogers*). Find the subdirectory `utils/recordings/`. There should be a directory for the name of your agent with video files in it. The `ml_workshop` directory contains videos from an example training."
   ]
  },
  {
   "cell_type": "markdown",
   "metadata": {},
   "source": [
    "Run the following cell to evaluate your agent. This is the mean deviation of the beam parameters from the target. Lower results are better.\n",
    "\n",
    "If you are training agents that include the dipoles, set the functions argument `include_position=True`."
   ]
  },
  {
   "cell_type": "code",
   "execution_count": 5,
   "metadata": {},
   "outputs": [
    {
     "name": "stdout",
     "output_type": "stream",
     "text": [
      "==> Achieved a score of 9.423088772459209e-05 (2000 evaluations)\n"
     ]
    }
   ],
   "source": [
    "evaluate_ares_ea_agent(config[\"run_name\"], include_position=False, n=2000)\n",
    "# TODO (RMSE / steps to convergence / over time plots) -> also just consider size not position\n"
   ]
  },
  {
   "cell_type": "markdown",
   "metadata": {},
   "source": [
    "We can also test the trained agent on a simulation.\n",
    "\n",
    "If you want to see an example agent instead of the one you just trained, set `agent_name=\"ml_workshop\"`."
   ]
  },
  {
   "cell_type": "code",
   "execution_count": 6,
   "metadata": {},
   "outputs": [],
   "source": [
    "# Run final agent\n",
    "agent_name = config[\"run_name\"]\n",
    "\n",
    "loaded_model = PPO.load(f\"utils/models/{agent_name}/model\")\n",
    "loaded_config = read_from_yaml(f\"utils/models/{agent_name}/config\")\n",
    "\n",
    "env = make_env(loaded_config, record_video=True)\n",
    "env = NotVecNormalize(env, f\"utils/models/{agent_name}/normalizer\")\n",
    "\n",
    "done = False\n",
    "observation = env.reset()\n",
    "while not done:\n",
    "    action, _ = loaded_model.predict(observation)\n",
    "    observation, reward, done, info = env.step(action)\n",
    "env.close()\n"
   ]
  },
  {
   "cell_type": "code",
   "execution_count": 7,
   "metadata": {},
   "outputs": [
    {
     "data": {
      "text/html": [
       "<video src=\"utils/recordings/John Black/rl-video-episode-0.mp4\" controls  >\n",
       "      Your browser does not support the <code>video</code> element.\n",
       "    </video>"
      ],
      "text/plain": [
       "<IPython.core.display.Video object>"
      ]
     },
     "execution_count": 7,
     "metadata": {},
     "output_type": "execute_result"
    }
   ],
   "source": [
    "show_video(f\"utils/recordings/{config['run_name']}/rl-video-episode-0.mp4\")"
   ]
  },
  {
   "cell_type": "markdown",
   "metadata": {},
   "source": [
    "### Running in the real world\n",
    "\n",
    "Below you can see one of our final trained agents optimising position and focus of the beam on the real ARES accelerator.\n",
    "\n",
    "Keep in mind that this agent has never seen the real accelerator before. All it has ever seen is a very simple linear beam dynamics simulation. Despite that it performs well on the real accelerator where all kinds of other effects come into the mix.\n",
    "\n",
    "Note that this does not happen by itself and is the result of various careful decisions when designing the traiing setup.\n",
    "\n",
    "Once trained, the agent is, however, trivial to use and requires no futher tuning or knowledge of RL."
   ]
  },
  {
   "cell_type": "code",
   "execution_count": 8,
   "metadata": {},
   "outputs": [
    {
     "data": {
      "text/html": [
       "<video src=\"utils/real_world_episode_recording.mp4\" controls  >\n",
       "      Your browser does not support the <code>video</code> element.\n",
       "    </video>"
      ],
      "text/plain": [
       "<IPython.core.display.Video object>"
      ]
     },
     "execution_count": 8,
     "metadata": {},
     "output_type": "execute_result"
    }
   ],
   "source": [
    "# Show polished donkey running (on real accelerator)\n",
    "show_video(\"utils/real_world_episode_recording.mp4\")\n"
   ]
  },
  {
   "cell_type": "markdown",
   "metadata": {},
   "source": [
    "## Further Resources\n",
    "\n",
    "### Getting started in RL\n",
    " - [OpenAI Spinning Up](https://spinningup.openai.com/en/latest/index.html) - Very understandable explainations on RL and the most popular algorithms acompanied by easy-to-read Python implementations.\n",
    " - [Reinforcement Learning with Stable Baselines 3](https://youtube.com/playlist?list=PLQVvvaa0QuDf0O2DWwLZBfJeYY-JOeZB1) - YouTube playlist giving a good introduction on RL using Stable Baselines3.\n",
    " - [Build a Doom AI Model with Python](https://youtu.be/eBCU-tqLGfQ) - Detailed 3h tutorial of applying RL using *DOOM* as an example.\n",
    " - [An introduction to Reinforcement Learning](https://youtu.be/JgvyzIkgxF0) - Brief introdution to RL.\n",
    " - [An introduction to Policy Gradient methods - Deep Reinforcement Learning](https://www.youtube.com/watch?v=5P7I-xPq8u8) - Brief introduction to PPO.\n",
    "\n",
    "### Papers\n",
    "\n",
    " - [Learning-based optimisation of particle accelerators under partial observability without real-world training](https://proceedings.mlr.press/v162/kaiser22a.html) - Tuning of electron beam properties on a diagnostic screen using RL.\n",
    " - [Sample-efficient reinforcement learning for CERN accelerator control](https://journals.aps.org/prab/abstract/10.1103/PhysRevAccelBeams.23.124801) - Beam trajectory steering using RL with a focus on sample-efficient training.\n",
    " - [Autonomous control of a particle accelerator using deep reinforcement learning](https://arxiv.org/abs/2010.08141) - Beam transport through a drift tube linac using RL.\n",
    " - [Basic reinforcement learning techniques to control the intensity of a seeded free-electron laser](https://www.mdpi.com/2079-9292/9/5/781/htm) - RL-based laser alignment and drift recovery.\n",
    " - [Real-time artificial intelligence for accelerator control: A study at the Fermilab Booster](https://journals.aps.org/prab/abstract/10.1103/PhysRevAccelBeams.24.104601) - Regulation of a gradient magnet power supply using RL and real-time implementation of the trained agent using field-programmable gate arrays (FPGAs).\n",
    " - [Magnetic control of tokamak plasmas through deep reinforcement learning](https://www.nature.com/articles/s41586-021-04301-9) - Landmark paper on RL for controling a real-world physical system (plasma in a tokamak fusion reactor).\n",
    "\n",
    "### Literature\n",
    " \n",
    " - [Reinforcement Learning: An Introduction](http://incompleteideas.net/book/the-book.html) - Standard text book on RL.\n",
    "\n",
    "### Packages\n",
    " - [Gym](https://www.gymlibrary.ml) - Defacto standard for implementing custom environments. Also provides a library of RL tasks widely used for benchmarking.\n",
    " - [Stable Baslines3](https://github.com/DLR-RM/stable-baselines3) - Provides reliable, benchmarked and easy-to-use implementations of the most important RL algorithms.\n",
    " - [Ray RLlib](https://docs.ray.io/en/latest/rllib/index.html) - Part of the *Ray* Python package providing implementations of various RL algorithms with a focus on distributed training."
   ]
  },
  {
   "cell_type": "code",
   "execution_count": null,
   "metadata": {},
   "outputs": [],
   "source": []
  }
 ],
 "metadata": {
  "celltoolbar": "Slideshow",
  "kernelspec": {
   "display_name": "Python 3 (ipykernel)",
   "language": "python",
   "name": "python3"
  },
  "language_info": {
   "codemirror_mode": {
    "name": "ipython",
    "version": 3
   },
   "file_extension": ".py",
   "mimetype": "text/x-python",
   "name": "python",
   "nbconvert_exporter": "python",
   "pygments_lexer": "ipython3",
   "version": "3.9.15"
  },
  "vscode": {
   "interpreter": {
    "hash": "302035faeb9fa1856ecd229a47c76a4301189e83fc01bb61100b784a4017c7c2"
   }
  }
 },
 "nbformat": 4,
 "nbformat_minor": 4
}
