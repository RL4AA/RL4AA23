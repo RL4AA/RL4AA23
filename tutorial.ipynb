{
 "cells": [
  {
   "cell_type": "markdown",
   "metadata": {},
   "source": [
    "<h1 style=\"text-align: center; vertical-align: middle;\">Reinforcement learning for focusing and steering tasks</h1>\n",
    "<h2 style=\"text-align: center; vertical-align: middle;\">Use case: ARES linear accelerator at DESY</h2>\n",
    "\n",
    "<h3 style=\"text-align: center; vertical-align: middle;\">Implementation example for RL4AA'23 workshop</h3>\n",
    "\n",
    "<p style=\"text-align: center\">Jan Kaiser, Chenran Xu, Andrea Santamaria Garcia, Simon Hirländer</p>"
   ]
  },
  {
   "cell_type": "markdown",
   "metadata": {
    "slideshow": {
     "slide_type": "slide"
    }
   },
   "source": [
    "<h2 style=\"color: #b51f2a\">1. ARES (Accelerator Research Experiment at SINBAD)</h2>\n",
    "ARES is an S-band radio frequency linac at the DESY Hamburg site equipped with a photoinjector and two independently driven traveling wave accelerating structures. The main research focus is the generation and characterization of sub-femtosecond electron bunches at relativistic particle energy. The generation of short electron bunches is of high interest for radiation generation, i.e. by free electron lasers.\n",
    "\n",
    "<img src=\"img/ARES_layout.png\" width=\"100%\"/>\n",
    "\n",
    "- **Final energy**: 100-155 MeV\n",
    "- **Bunch charge**: 0.5-30 pC\n",
    "- **Bunch length**: 0.2-10 fs\n",
    "- **Pulse repetition rate**: 10-50 Hz"
   ]
  },
  {
   "cell_type": "markdown",
   "metadata": {
    "slideshow": {
     "slide_type": "slide"
    }
   },
   "source": [
    "<h2 style=\"color: #b51f2a\">2. The accelerator problem we want to solve</h2>\n",
    "\n",
    "<h3 style=\"text-align: center; vertical-align: middle;\">We would like to focus and center the electron beam on a diagnostic screen using corrector and quadrupole magnets</h3>\n",
    "\n",
    "<img src=\"img/ares_magnets.png\" width=\"70%\"/>"
   ]
  },
  {
   "cell_type": "markdown",
   "metadata": {
    "slideshow": {
     "slide_type": "slide"
    }
   },
   "source": [
    "<h2 style=\"color: #b51f2a\">3. Formulating the RL problem</h2>\n",
    "<h3>3.1. Refresher from the lecture: the main elements</h3>\n",
    "<img src=\"img/rl_problem_2.png\" width=\"70%\"/>"
   ]
  },
  {
   "cell_type": "markdown",
   "metadata": {
    "slideshow": {
     "slide_type": "slide"
    }
   },
   "source": [
    "<h2 style=\"color: #b51f2a\">3. Formulating the RL problem</h2>\n",
    "<h3>3.2. Adaptation to our study case</h3>\n",
    "<img src=\"img/ares_rl_problem.png\" width=\"70%\"/>\n",
    "\n",
    "<h3>3.3. Questions</h3>\n",
    "\n",
    "Let's think about the characteristics of our problem:\n",
    "    \n",
    "- Is the action space discrete or continuous?\n",
    "- Is it a stationary (deterministic) problem or not?"
   ]
  },
  {
   "cell_type": "markdown",
   "metadata": {
    "slideshow": {
     "slide_type": "slide"
    }
   },
   "source": [
    "<h2 style=\"color: #b51f2a\">Actions</h2>\n",
    "<h3>In the ARES transverse tuning task we have 3 quadrupoles and 2 corrector magnets</h3>\n",
    "\n",
    "The actions are:\n",
    "- Quadrupole magnet strength $k_{1,2,3}$ \\[1/m^2\\]\n",
    "- Corrector deflection angle $\\theta_\\mathrm{v, h}$ \\[mrad\\] (vertical and horizontal)\n",
    "\n",
    "In our control system we can set these derived values directly according the beam energy.\n",
    "\n",
    "\n",
    "\n",
    "$\\implies$ a 5-dimensional array"
   ]
  },
  {
   "cell_type": "markdown",
   "metadata": {
    "slideshow": {
     "slide_type": "slide"
    }
   },
   "source": [
    "<h2 style=\"color: #b51f2a\">Observation</h2>\n",
    "\n",
    "Observation is the information an agent receives about the current state of the envrionment. \n",
    "\n",
    "It should provide enough information so that the agent can solve this problem. \n",
    "\n",
    "<h3> Questions </h3>\n",
    "\n",
    "- What should be included in the `observation`? \n",
    "- What can be observed in simulation? \n",
    "- What cannot be observed in real world?\n"
   ]
  },
  {
   "cell_type": "markdown",
   "metadata": {
    "slideshow": {
     "slide_type": "slide"
    }
   },
   "source": [
    "<h3> Our definition of observation </h3>\n",
    "\n",
    "The `observation` for this task contains three parts:\n",
    "- __target beam__: as a 4-dimensional array $[\\mu_x^{(\\mathrm{t})},\\sigma_x^{(\\mathrm{t})},\\mu_y^{(\\mathrm{t})},\\sigma_y^{(\\mathrm{t})}]$, where $\\mu$ denotes the position and $\\sigma$ denotes the beam size.\n",
    "- __current beam__: $[\\mu_x^{(\\mathrm{c})},\\sigma_x^{(\\mathrm{c})},\\mu_y^{(\\mathrm{c})},\\sigma_y^{(\\mathrm{c})}]$\n",
    "- __magnet strengths__ $[k_{\\mathrm{Q1}},k_{\\mathrm{Q2}},\\theta_\\mathrm{CV},k_{\\mathrm{Q3}},\\theta_\\mathrm{CH}]$\n"
   ]
  },
  {
   "cell_type": "markdown",
   "metadata": {
    "slideshow": {
     "slide_type": "slide"
    }
   },
   "source": [
    "<h2 style=\"color: #b51f2a\">Goal and Reward</h2>\n",
    "<img src=\"img/rl_problem_1.png\" width=\"70%\"/>\n"
   ]
  },
  {
   "cell_type": "markdown",
   "metadata": {
    "slideshow": {
     "slide_type": "slide"
    }
   },
   "source": [
    "<h2 style=\"color: #b51f2a\">Goal and Reward</h2>\n",
    "\n",
    "Our goal is to steer and focus the beam to an required position and beam size.\n",
    "\n",
    "<h3> Question </h3>\n",
    "\n",
    "How should we define our reward function?"
   ]
  },
  {
   "cell_type": "markdown",
   "metadata": {
    "slideshow": {
     "slide_type": "slide"
    }
   },
   "source": [
    "<h2 style=\"color: #b51f2a\">Reward function</h2>\n",
    "\n",
    "We defined different reward modes to be used:\n",
    "\n",
    "### 1. Reward = \"negative_objective\"\n",
    "$$ \\mathrm{obj} = \\sum_{i}|b_i^\\mathrm{(c)} - b_i^\\mathrm{(t)}|$$\n",
    "$$ r_\\mathrm{neg-obj} = -1 * \\mathrm{obj} / \\mathrm{obj}_0 $$\n",
    "\n",
    "where $b = [\\mu_x,\\sigma_x,\\mu_y,\\sigma_y]$, $b^\\mathrm{(c)}$ is the current beam, and $b^\\mathrm{(t)}$ is the target beam. $\\mathrm{obj}_0$ is the initial objective after `reset`."
   ]
  },
  {
   "cell_type": "markdown",
   "metadata": {
    "slideshow": {
     "slide_type": "slide"
    }
   },
   "source": [
    "### 2. Reward = \"objective_improvement\"\n",
    "\n",
    "$$ r_\\mathrm{obj-improvement} = (\\mathrm{obj}_{j} - \\mathrm{obj}_{j-1} ) / \\mathrm{obj}_0 $$\n",
    "$$ obj = \\sum_{i}|b_i^\\mathrm{(c)} - b_i^\\mathrm{(t)}|$$\n",
    "\n",
    "where $j$ is the index of the current time step."
   ]
  },
  {
   "cell_type": "markdown",
   "metadata": {
    "slideshow": {
     "slide_type": "slide"
    }
   },
   "source": [
    "### 3. Reward = \"sum_of_pixels\" (focusing-only)\n",
    "    \n",
    "$$r_\\mathrm{sum-pixel} = - \\sum_\\text{all pixels} \\text{screen-image}$$"
   ]
  },
  {
   "cell_type": "markdown",
   "metadata": {
    "slideshow": {
     "slide_type": "slide"
    }
   },
   "source": [
    "<h2 style=\"color: #b51f2a\">Environment</h2>\n",
    "\n",
    "We take all the points above and reprensent the tuning task as an [OpenAI Gym](https://www.gymlibrary.dev/) environment, which is a standard library for RL tasks.\n",
    "\n",
    "A custom `gym.Env` would contain the following parts:\n",
    "\n",
    "- Initialization: setup the environment, declares the allowed `observation_space` and `action_space`.\n",
    "- `reset` method: resets the environment for a new episode, returns 2-tuple `(observation, info)`.\n",
    "- `step` method: main logic of the environment. It takes an `action`, changes the environment to a new `state`, get new `observation`, compute the `reward`, and finally returns the 4-tuple `(observation, reward, done, info)`. `done` checks if the current episode should be terminated (reached goal reached, or exceeded some thresholds).\n",
    "- `render` method: to visualize the environment (a video,or just some plots)"
   ]
  },
  {
   "cell_type": "markdown",
   "metadata": {},
   "source": [
    "<h3>ARESEA Environment</h3>\n",
    "\n",
    "- `reset`: In both real and simulation cases: resets the magnets to initial values. In simulation, regenerate incoming beam, (optionally) resets the magnet misalignments.\n",
    "- `step`: Set magnets to new settings. Observe the beam (run a simulation or observe screen image in real-world)."
   ]
  },
  {
   "cell_type": "markdown",
   "metadata": {
    "slideshow": {
     "slide_type": "slide"
    }
   },
   "source": [
    "<h2 style=\"color: #b51f2a\">RL Algorithm</h2>\n",
    "\n",
    "<img src=\"img/rl_algorithms_taxonomy.svg\" width=\"50%\"/>\n",
    "\n",
    "[Imgae source](https://spinningup.openai.com/en/latest/spinningup/rl_intro2.html) "
   ]
  },
  {
   "cell_type": "markdown",
   "metadata": {
    "slideshow": {
     "slide_type": "slide"
    }
   },
   "source": [
    "<h2 style=\"color: #b51f2a\">RL Algorithm</h2>\n",
    "\n",
    "We use the [Stable-Baselines3](https://stable-baselines3.readthedocs.io/) (SB3) package to implement the reinforcement learning algorithms.\n",
    "\n",
    "In this tutorial we focus on two examples: [PPO](https://stable-baselines3.readthedocs.io/en/master/modules/ppo.html) (proximal policy optimization) and [TD3](https://stable-baselines3.readthedocs.io/en/master/modules/td3.html) (twin delayed DDPG)"
   ]
  },
  {
   "cell_type": "markdown",
   "metadata": {
    "slideshow": {
     "slide_type": "slide"
    }
   },
   "source": [
    "<h2 style=\"color: #b51f2a\">4. Algorithm implementation</h2>\n",
    "\n",
    "We list the most relevant parts of the project structure below:\n",
    "\n",
    "- `utils/train.py` contains the gym environments and the training script\n",
    "    - `ARESEA` implements the ARES Experimental Area transverse tuning task as a `gym.Env`. It contains the basic logic, such as definition of observation space, action space, and reward. How an action is taken is implemented in child classes with specific backends. \n",
    "    - `ARESEACheetah` is derived from the base class `ARESEA`, where it uses `cheetah` simulation as a backend.\n",
    "    - `make_env` Initializes a `ARESEA` envrionment, and wraps it with required [gym.wrappers](https://www.gymlibrary.dev/api/wrappers/) with convenient features (e.g. monitoring the progress, end episode when time_limit is reached, rescales the action, normalize the observation, ...)\n",
    "    - `train` convenient function for training the RL agent. It calls `make_env`, setup the RL algorithm, starts training, and saves the results in `utils/recordings`, `utils/monitors` and `utils/models`.\n",
    "- `utils/helpers.py` contains some utility functions\n",
    "    - `evaluate_ares_ea_agent` Takes a trained agent and evaluates its performance using different metrics.\n",
    "    - `plot_ares_ea_training_history` shows the progress during training"
   ]
  },
  {
   "cell_type": "code",
   "execution_count": 18,
   "metadata": {
    "slideshow": {
     "slide_type": "slide"
    }
   },
   "outputs": [],
   "source": [
    "from time import sleep\n",
    "\n",
    "import names\n",
    "import numpy as np\n",
    "from stable_baselines3 import PPO\n",
    "\n",
    "from utils.train import train as train_ares_ea\n",
    "from utils.train import make_env, read_from_yaml\n",
    "from utils.helpers import (\n",
    "    evaluate_ares_ea_agent,\n",
    "    make_ares_ea_training_videos,\n",
    "    plot_ares_ea_training_history,\n",
    "    show_video,\n",
    ")\n",
    "from utils.utils import NotVecNormalize\n"
   ]
  },
  {
   "cell_type": "markdown",
   "metadata": {},
   "source": [
    "Training a good agent revolves primarily around finding the right setup for the environment and the correct reward function. In order to iterate over and compare many different options, our training function takes a dictionary such as the one below.\n",
    "\n",
    "Feel free to change things and see how they might affect the final agents.\n",
    "\n",
    "**Note:** Traing can take a while. The actual function call is therefore commented out and we provide data from a training that we have prepared earlier."
   ]
  },
  {
   "cell_type": "markdown",
   "metadata": {},
   "source": [
    "### Configurations\n",
    "\n",
    "In the following, we use a config dictionary to set up the training. This allows us to easily switch between different training conditions. Below we show some selected configurations that have the most influence on training results, the parameters can mostly be divided into two parts.\n",
    "\n",
    "__1. Environment configurations__\n",
    "- `abort_if_off_screen` If this property is set to True, episodes are aborted when the beam is no longer on the screen.\n",
    "- `action_mode` Set directly the magnet strength or set a delta action. You may set this to `\"direct\"` or `\"delta\"`. You should find that \"delta\" trains faster. Setting \"delta\" is also crucial in running the agent on the real accelerator.\n",
    "- `reward_mode`: How the reward is calculated. Can be set to `negative_objective`, `objective_improvement`, or `sum_of_pixels`.\n",
    "- `rescale_action`: Takes the limits of the magnet settings and scale them into the following range.\n",
    "- `time_limit`: Number of interactions the agent gets to tune the magnets within one episode.\n",
    "- `time_reward`: Whether the agent will be penalized for making another step, this is intended to make the tuning faster.\n",
    "- `target_sigma_x_threshold`, `target_sigma_y_threshold`: Thresholds for beam parameters. If all beam parameters are within the threshold from their target, episodes will end and the agent will stop optimising.\n",
    "\n",
    "__2. Training configurations__\n",
    "- `gamma`: Discount factor of the RL problem. Set lower to make rewards now more important than rewards later (usually above 0.9)\n",
    "- `batch_size`: Batch size of the neural network training in the PPO algorithm\n",
    "- `normalize_observation`: Normalise observations throughout training by fitting a running mean and standard deviation of them.\n",
    "- `normalize_reward`: Normalise rewards throughout training by fitting a running mean and standard deviation of them.\n",
    "- `total_timesteps`: Number of interactions with the environment that the agent is allowed to traing for."
   ]
  },
  {
   "cell_type": "markdown",
   "metadata": {
    "slideshow": {
     "slide_type": "slide"
    }
   },
   "source": [
    "<h2 style=\"color: #b51f2a\">What could go wrong?</h2>\n",
    "\n",
    "Let's load some pre-trained models using different combinations of the configuration."
   ]
  },
  {
   "cell_type": "markdown",
   "metadata": {
    "slideshow": {
     "slide_type": "slide"
    }
   },
   "source": [
    "### Pre-trained Agent 1: \"Gary Buchwald\"\n",
    "\n",
    "- **`\"abort_if_off_screen\": True`**\n",
    "- **`\"reward_mode\": \"objective_improvement\"`**\n",
    "- `\"target_sigma_x_threshold\": None`\n",
    "- `\"target_sigma_y_threshold\": None`\n",
    "- **`\"time_reward\": -1.0`**\n",
    "- `\"action_mode\": \"delta\"`\n",
    "\n",
    "__Question__: What do you expect to happen, why?"
   ]
  },
  {
   "cell_type": "code",
   "execution_count": 3,
   "metadata": {
    "slideshow": {
     "slide_type": "slide"
    }
   },
   "outputs": [],
   "source": [
    "agent_name = \"Gary Buchwald\"  # names are randomly generated in training\n",
    "\n",
    "loaded_model = PPO.load(f\"utils/models/{agent_name}/model\")\n",
    "loaded_config = read_from_yaml(f\"utils/models/{agent_name}/config\")\n",
    "\n",
    "env = make_env(loaded_config, record_video=False)\n",
    "env = NotVecNormalize(env, f\"utils/models/{agent_name}/normalizer\")\n",
    "\n",
    "done = False\n",
    "observation = env.reset()\n",
    "env.render()\n",
    "while not done:\n",
    "    action, _ = loaded_model.predict(observation)\n",
    "    observation, reward, done, info = env.step(action)\n",
    "    env.render()\n",
    "    sleep(0.5)"
   ]
  },
  {
   "cell_type": "code",
   "execution_count": 4,
   "metadata": {},
   "outputs": [],
   "source": [
    "env.close();  # destroy the window"
   ]
  },
  {
   "cell_type": "markdown",
   "metadata": {
    "slideshow": {
     "slide_type": "slide"
    }
   },
   "source": [
    "### Pre-trained Agent 2: \"David Archibald\"\n",
    "\n",
    "- `\"abort_if_off_screen\": False`\n",
    "- **`\"reward_mode\": \"sum_of_pixels\"`**\n",
    "- `\"target_sigma_x_threshold\": None`\n",
    "- `\"target_sigma_y_threshold\": None`\n",
    "- `\"time_reward\": 0.0`\n",
    "- `\"action_mode\": \"delta\"`\n",
    "\n",
    "__Question__: What do you expect to happen, why?"
   ]
  },
  {
   "cell_type": "code",
   "execution_count": 3,
   "metadata": {
    "slideshow": {
     "slide_type": "slide"
    }
   },
   "outputs": [],
   "source": [
    "agent_name = \"David Archibald\"  # names are randomly generated in training\n",
    "\n",
    "loaded_model = PPO.load(f\"utils/models/{agent_name}/model\")\n",
    "loaded_config = read_from_yaml(f\"utils/models/{agent_name}/config\")\n",
    "\n",
    "env = make_env(loaded_config, record_video=False)\n",
    "env = NotVecNormalize(env, f\"utils/models/{agent_name}/normalizer\")\n",
    "\n",
    "done = False\n",
    "observation = env.reset()\n",
    "env.render()\n",
    "while not done:\n",
    "    action, _ = loaded_model.predict(observation)\n",
    "    observation, reward, done, info = env.step(action)\n",
    "    env.render()\n",
    "    sleep(0.5)"
   ]
  },
  {
   "cell_type": "code",
   "execution_count": 4,
   "metadata": {},
   "outputs": [],
   "source": [
    "env.close();  # destroy the window"
   ]
  },
  {
   "cell_type": "markdown",
   "metadata": {
    "slideshow": {
     "slide_type": "slide"
    }
   },
   "source": [
    "### Pre-trained Agent 3: \"Bertha Sparkman\"\n",
    "\n",
    "- `\"abort_if_off_screen\": False`\n",
    "- **`\"reward_mode\": \"objective_improvement\"`**\n",
    "- `\"target_sigma_x_threshold\": None`\n",
    "- `\"target_sigma_y_threshold\": None`\n",
    "- `\"time_reward\": 0.0`\n",
    "- **`\"action_mode\": \"direct\"`**\n",
    "\n",
    "__Question__: What do you expect to happen, why?"
   ]
  },
  {
   "cell_type": "code",
   "execution_count": 3,
   "metadata": {
    "slideshow": {
     "slide_type": "slide"
    }
   },
   "outputs": [],
   "source": [
    "agent_name = \"Bertha Sparkman\"  # names are randomly generated in training\n",
    "\n",
    "loaded_model = PPO.load(f\"utils/models/{agent_name}/model\")\n",
    "loaded_config = read_from_yaml(f\"utils/models/{agent_name}/config\")\n",
    "\n",
    "env = make_env(loaded_config, record_video=False)\n",
    "env = NotVecNormalize(env, f\"utils/models/{agent_name}/normalizer\")\n",
    "\n",
    "done = False\n",
    "observation = env.reset()\n",
    "env.render()\n",
    "while not done:\n",
    "    action, _ = loaded_model.predict(observation)\n",
    "    observation, reward, done, info = env.step(action)\n",
    "    env.render()\n",
    "    sleep(0.5)"
   ]
  },
  {
   "cell_type": "code",
   "execution_count": 4,
   "metadata": {},
   "outputs": [],
   "source": [
    "env.close();  # destroy the window"
   ]
  },
  {
   "cell_type": "markdown",
   "metadata": {
    "slideshow": {
     "slide_type": "slide"
    }
   },
   "source": [
    "### Pre-trained Agent 4: \"Betty Gordon\"\n",
    "\n",
    "- `\"abort_if_off_screen\": False`\n",
    "- **`\"reward_mode\": \"objective_improvement\"`**\n",
    "- `\"target_sigma_x_threshold\": None`\n",
    "- `\"target_sigma_y_threshold\": None`\n",
    "- `\"time_reward\": 0.0`\n",
    "- `\"action_mode\": \"delta\"`\n",
    "\n",
    "__Question__: What do you expect to happen, why?"
   ]
  },
  {
   "cell_type": "code",
   "execution_count": 5,
   "metadata": {
    "slideshow": {
     "slide_type": "slide"
    }
   },
   "outputs": [],
   "source": [
    "agent_name = \"Betty Gordon\"  # names are randomly generated in training\n",
    "\n",
    "loaded_model = PPO.load(f\"utils/models/{agent_name}/model\")\n",
    "loaded_config = read_from_yaml(f\"utils/models/{agent_name}/config\")\n",
    "\n",
    "env = make_env(loaded_config, record_video=False)\n",
    "env = NotVecNormalize(env, f\"utils/models/{agent_name}/normalizer\")\n",
    "\n",
    "done = False\n",
    "observation = env.reset()\n",
    "env.render()\n",
    "while not done:\n",
    "    action, _ = loaded_model.predict(observation)\n",
    "    observation, reward, done, info = env.step(action)\n",
    "    env.render()\n",
    "    sleep(0.5)"
   ]
  },
  {
   "cell_type": "code",
   "execution_count": 6,
   "metadata": {},
   "outputs": [],
   "source": [
    "env.close();  # destroy the window"
   ]
  },
  {
   "cell_type": "markdown",
   "metadata": {
    "slideshow": {
     "slide_type": "slide"
    }
   },
   "source": [
    "### Pre-trained Agent 5: \"Sean Kelley\"\n",
    "\n",
    "- `\"abort_if_off_screen\": False`\n",
    "- `\"reward_mode\": \"negative_objective\"`\n",
    "- `\"target_sigma_x_threshold\": None`\n",
    "- `\"target_sigma_y_threshold\": None`\n",
    "- `\"time_reward\": 0.0`\n",
    "- `\"action_mode\": \"delta\"`\n",
    "\n",
    "__Question__: What do you expect to happen, why?"
   ]
  },
  {
   "cell_type": "code",
   "execution_count": 3,
   "metadata": {
    "slideshow": {
     "slide_type": "slide"
    }
   },
   "outputs": [],
   "source": [
    "agent_name = \"Sean Kelley\"  # names are randomly generated in training\n",
    "\n",
    "loaded_model = PPO.load(f\"utils/models/{agent_name}/model\")\n",
    "loaded_config = read_from_yaml(f\"utils/models/{agent_name}/config\")\n",
    "\n",
    "env = make_env(loaded_config, record_video=False)\n",
    "env = NotVecNormalize(env, f\"utils/models/{agent_name}/normalizer\")\n",
    "\n",
    "done = False\n",
    "observation = env.reset()\n",
    "env.render()\n",
    "while not done:\n",
    "    action, _ = loaded_model.predict(observation)\n",
    "    observation, reward, done, info = env.step(action)\n",
    "    env.render()\n",
    "    sleep(0.5)"
   ]
  },
  {
   "cell_type": "code",
   "execution_count": 4,
   "metadata": {},
   "outputs": [],
   "source": [
    "env.close();  # destroy the window"
   ]
  },
  {
   "cell_type": "markdown",
   "metadata": {
    "slideshow": {
     "slide_type": "slide"
    }
   },
   "source": [
    "Now, set the config below and train your first reinforcement learning agent!"
   ]
  },
  {
   "cell_type": "code",
   "execution_count": 2,
   "metadata": {
    "slideshow": {
     "slide_type": "-"
    }
   },
   "outputs": [
    {
     "name": "stdout",
     "output_type": "stream",
     "text": [
      "==> Training agent \"Steven Jacobs\"\n",
      "Eval num_timesteps=20000, episode_reward=-14.99 +/- 3.48\n",
      "Episode length: 25.00 +/- 0.00\n",
      "New best mean reward!\n",
      "Eval num_timesteps=40000, episode_reward=-5.92 +/- 0.73\n",
      "Episode length: 25.00 +/- 0.00\n",
      "New best mean reward!\n",
      "Eval num_timesteps=60000, episode_reward=-5.78 +/- 0.64\n",
      "Episode length: 25.00 +/- 0.00\n",
      "New best mean reward!\n",
      "Eval num_timesteps=80000, episode_reward=-5.79 +/- 0.83\n",
      "Episode length: 25.00 +/- 0.00\n",
      "Eval num_timesteps=100000, episode_reward=-5.00 +/- 0.77\n",
      "Episode length: 25.00 +/- 0.00\n",
      "New best mean reward!\n",
      "Eval num_timesteps=120000, episode_reward=-5.26 +/- 0.31\n",
      "Episode length: 25.00 +/- 0.00\n",
      "Eval num_timesteps=140000, episode_reward=-5.25 +/- 0.18\n",
      "Episode length: 25.00 +/- 0.00\n",
      "Eval num_timesteps=160000, episode_reward=-4.81 +/- 0.73\n",
      "Episode length: 25.00 +/- 0.00\n",
      "New best mean reward!\n",
      "Eval num_timesteps=180000, episode_reward=-6.08 +/- 0.98\n",
      "Episode length: 25.00 +/- 0.00\n",
      "Eval num_timesteps=200000, episode_reward=-6.75 +/- 2.49\n",
      "Episode length: 25.00 +/- 0.00\n",
      "Eval num_timesteps=220000, episode_reward=-5.64 +/- 1.05\n",
      "Episode length: 25.00 +/- 0.00\n",
      "Eval num_timesteps=240000, episode_reward=-5.71 +/- 0.71\n",
      "Episode length: 25.00 +/- 0.00\n",
      "Eval num_timesteps=260000, episode_reward=-5.71 +/- 0.90\n",
      "Episode length: 25.00 +/- 0.00\n",
      "Eval num_timesteps=280000, episode_reward=-5.58 +/- 0.29\n",
      "Episode length: 25.00 +/- 0.00\n",
      "Eval num_timesteps=300000, episode_reward=-6.16 +/- 1.37\n",
      "Episode length: 25.00 +/- 0.00\n"
     ]
    }
   ],
   "source": [
    "# Feel free to change some of the configurations here.\n",
    "config = {\n",
    "    \"abort_if_off_screen\": False,\n",
    "    \"action_mode\": \"delta\",\n",
    "    \"batch_size\": 100,\n",
    "    \"gamma\": 0.99,\n",
    "    \"frame_stack\": None,\n",
    "    \"net_arch\": [64, 64],\n",
    "    \"normalize_observation\": True,\n",
    "    \"normalize_reward\": True,\n",
    "    \"rescale_action\": (-3, 3),\n",
    "    \"reward_mode\": \"negative_objective\",\n",
    "    \"run_name\": names.get_full_name(),\n",
    "    \"target_sigma_x_threshold\": None,\n",
    "    \"target_sigma_y_threshold\": None,\n",
    "    \"total_timesteps\": 300_000,\n",
    "    \"threshold_hold\": 5,\n",
    "    \"time_limit\": 25,\n",
    "    \"time_reward\": -0.0,\n",
    "}\n",
    "\n",
    "# Toggle comment to re-run the training (can take very long)\n",
    "train_ares_ea(config)\n"
   ]
  },
  {
   "cell_type": "markdown",
   "metadata": {
    "slideshow": {
     "slide_type": "slide"
    }
   },
   "source": [
    "As before we can look at the training metrics and check out videos taken at different stages of the training.\n",
    "\n",
    "Comment out the following line and set `agent_under_investigation` to the name of your agent, to check its training history."
   ]
  },
  {
   "cell_type": "code",
   "execution_count": 15,
   "metadata": {},
   "outputs": [],
   "source": [
    "# agent_under_investigation = config[\"run_name\"]\n",
    "agent_under_investigation = \"Sean Kelley\""
   ]
  },
  {
   "cell_type": "code",
   "execution_count": 16,
   "metadata": {},
   "outputs": [
    {
     "data": {
      "image/png": "[encoded data removed]",
      "text/plain": [
       "<Figure size 936x288 with 2 Axes>"
      ]
     },
     "metadata": {
      "needs_background": "light"
     },
     "output_type": "display_data"
    }
   ],
   "source": [
    "# Training curves from this training\n",
    "# Change `config[\"run_name\"` to `\"ml_worksop` to see curves from example training.\n",
    "plot_ares_ea_training_history(agent_under_investigation)\n"
   ]
  },
  {
   "cell_type": "markdown",
   "metadata": {
    "slideshow": {
     "slide_type": "slide"
    }
   },
   "source": [
    "To look at videos of the agent during training:\n",
    "1. find the first output line of the training cell. Your agent should have a name (e.g. *Fred Rogers*). \n",
    "2. Find the subdirectory `utils/recordings/`. \n",
    "3. There should be a directory for the name of your agent with video files in it. The `ml_workshop` directory contains videos from an example training."
   ]
  },
  {
   "cell_type": "markdown",
   "metadata": {
    "slideshow": {
     "slide_type": "slide"
    }
   },
   "source": [
    "Run the following cell to evaluate your agent. This is the mean deviation of the beam parameters from the target. Lower results are better.\n",
    "\n",
    "If you are training agents that include the dipoles, set the functions argument `include_position=True`."
   ]
  },
  {
   "cell_type": "code",
   "execution_count": 4,
   "metadata": {},
   "outputs": [
    {
     "name": "stdout",
     "output_type": "stream",
     "text": [
      "Evaluation results (2000 evaluations)\n",
      "----------------------------------------\n",
      "==> Mean MAE = 4.0063633123821774e-05\n",
      "==> RMSE = 6.055227990080556e-05\n",
      "==> Mean no. of steps = 25.0\n"
     ]
    },
    {
     "data": {
      "image/png": "[encoded data removed]",
      "text/plain": [
       "<Figure size 640x480 with 1 Axes>"
      ]
     },
     "metadata": {},
     "output_type": "display_data"
    }
   ],
   "source": [
    "evaluate_ares_ea_agent(agent_under_investigation, include_position=False, n=2000)\n"
   ]
  },
  {
   "cell_type": "markdown",
   "metadata": {
    "slideshow": {
     "slide_type": "slide"
    }
   },
   "source": [
    "We can also test the trained agent on a simulation.\n",
    "\n",
    "If you want to see an example agent instead of the one you just trained, set `agent_name=\"ml_workshop\"`."
   ]
  },
  {
   "cell_type": "code",
   "execution_count": 6,
   "metadata": {},
   "outputs": [],
   "source": [
    "# Run final agent\n",
    "agent_name = agent_under_investigation\n",
    "\n",
    "loaded_model = PPO.load(f\"utils/models/{agent_name}/model\")\n",
    "loaded_config = read_from_yaml(f\"utils/models/{agent_name}/config\")\n",
    "\n",
    "env = make_env(loaded_config, record_video=True)\n",
    "env = NotVecNormalize(env, f\"utils/models/{agent_name}/normalizer\")\n",
    "\n",
    "done = False\n",
    "observation = env.reset()\n",
    "while not done:\n",
    "    action, _ = loaded_model.predict(observation)\n",
    "    observation, reward, done, info = env.step(action)\n",
    "env.close()\n"
   ]
  },
  {
   "cell_type": "code",
   "execution_count": 7,
   "metadata": {
    "slideshow": {
     "slide_type": "slide"
    }
   },
   "outputs": [
    {
     "data": {
      "text/html": [
       "<video src=\"utils/recordings/Frederick Silsby/rl-video-episode-0.mp4\" controls  >\n",
       "      Your browser does not support the <code>video</code> element.\n",
       "    </video>"
      ],
      "text/plain": [
       "<IPython.core.display.Video object>"
      ]
     },
     "execution_count": 7,
     "metadata": {},
     "output_type": "execute_result"
    }
   ],
   "source": [
    "show_video(f\"utils/recordings/{agent_under_investigation}/rl-video-episode-0.mp4\")"
   ]
  },
  {
   "cell_type": "markdown",
   "metadata": {
    "slideshow": {
     "slide_type": "slide"
    }
   },
   "source": [
    "### Running in the real world\n",
    "\n",
    "Below you can see one of our final trained agents optimising position and focus of the beam on the real ARES accelerator.\n",
    "\n",
    "Keep in mind that this agent has never seen the real accelerator before. All it has ever seen is a very simple linear beam dynamics simulation. Despite that it performs well on the real accelerator where all kinds of other effects come into the mix.\n",
    "\n",
    "Note that this does not happen by itself and is the result of various careful decisions when designing the traiing setup.\n",
    "\n",
    "Once trained, the agent is, however, trivial to use and requires no futher tuning or knowledge of RL."
   ]
  },
  {
   "cell_type": "code",
   "execution_count": 8,
   "metadata": {
    "slideshow": {
     "slide_type": "slide"
    }
   },
   "outputs": [
    {
     "data": {
      "text/html": [
       "<video src=\"utils/real_world_episode_recording.mp4\" controls  >\n",
       "      Your browser does not support the <code>video</code> element.\n",
       "    </video>"
      ],
      "text/plain": [
       "<IPython.core.display.Video object>"
      ]
     },
     "execution_count": 8,
     "metadata": {},
     "output_type": "execute_result"
    }
   ],
   "source": [
    "# Show polished donkey running (on real accelerator)\n",
    "show_video(\"utils/real_world_episode_recording.mp4\")\n"
   ]
  },
  {
   "cell_type": "markdown",
   "metadata": {
    "slideshow": {
     "slide_type": "slide"
    }
   },
   "source": [
    "## Further Resources\n",
    "\n",
    "### Getting started in RL\n",
    " - [OpenAI Spinning Up](https://spinningup.openai.com/en/latest/index.html) - Very understandable explainations on RL and the most popular algorithms acompanied by easy-to-read Python implementations.\n",
    " - [Reinforcement Learning with Stable Baselines 3](https://youtube.com/playlist?list=PLQVvvaa0QuDf0O2DWwLZBfJeYY-JOeZB1) - YouTube playlist giving a good introduction on RL using Stable Baselines3.\n",
    " - [Build a Doom AI Model with Python](https://youtu.be/eBCU-tqLGfQ) - Detailed 3h tutorial of applying RL using *DOOM* as an example.\n",
    " - [An introduction to Reinforcement Learning](https://youtu.be/JgvyzIkgxF0) - Brief introdution to RL.\n",
    " - [An introduction to Policy Gradient methods - Deep Reinforcement Learning](https://www.youtube.com/watch?v=5P7I-xPq8u8) - Brief introduction to PPO.\n",
    "\n",
    "### Papers\n",
    "\n",
    " - [Learning-based optimisation of particle accelerators under partial observability without real-world training](https://proceedings.mlr.press/v162/kaiser22a.html) - Tuning of electron beam properties on a diagnostic screen using RL.\n",
    " - [Sample-efficient reinforcement learning for CERN accelerator control](https://journals.aps.org/prab/abstract/10.1103/PhysRevAccelBeams.23.124801) - Beam trajectory steering using RL with a focus on sample-efficient training.\n",
    " - [Autonomous control of a particle accelerator using deep reinforcement learning](https://arxiv.org/abs/2010.08141) - Beam transport through a drift tube linac using RL.\n",
    " - [Basic reinforcement learning techniques to control the intensity of a seeded free-electron laser](https://www.mdpi.com/2079-9292/9/5/781/htm) - RL-based laser alignment and drift recovery.\n",
    " - [Real-time artificial intelligence for accelerator control: A study at the Fermilab Booster](https://journals.aps.org/prab/abstract/10.1103/PhysRevAccelBeams.24.104601) - Regulation of a gradient magnet power supply using RL and real-time implementation of the trained agent using field-programmable gate arrays (FPGAs).\n",
    " - [Magnetic control of tokamak plasmas through deep reinforcement learning](https://www.nature.com/articles/s41586-021-04301-9) - Landmark paper on RL for controling a real-world physical system (plasma in a tokamak fusion reactor).\n",
    "\n",
    "### Literature\n",
    " \n",
    " - [Reinforcement Learning: An Introduction](http://incompleteideas.net/book/the-book.html) - Standard text book on RL.\n",
    "\n",
    "### Packages\n",
    " - [Gym](https://www.gymlibrary.ml) - Defacto standard for implementing custom environments. Also provides a library of RL tasks widely used for benchmarking.\n",
    " - [Stable Baslines3](https://github.com/DLR-RM/stable-baselines3) - Provides reliable, benchmarked and easy-to-use implementations of the most important RL algorithms.\n",
    " - [Ray RLlib](https://docs.ray.io/en/latest/rllib/index.html) - Part of the *Ray* Python package providing implementations of various RL algorithms with a focus on distributed training."
   ]
  },
  {
   "cell_type": "code",
   "execution_count": null,
   "metadata": {},
   "outputs": [],
   "source": []
  }
 ],
 "metadata": {
  "celltoolbar": "Slideshow",
  "kernelspec": {
   "display_name": "Python 3 (ipykernel)",
   "language": "python",
   "name": "python3"
  },
  "language_info": {
   "codemirror_mode": {
    "name": "ipython",
    "version": 3
   },
   "file_extension": ".py",
   "mimetype": "text/x-python",
   "name": "python",
   "nbconvert_exporter": "python",
   "pygments_lexer": "ipython3",
   "version": "3.10.5"
  },
  "vscode": {
   "interpreter": {
    "hash": "302035faeb9fa1856ecd229a47c76a4301189e83fc01bb61100b784a4017c7c2"
   }
  }
 },
 "nbformat": 4,
 "nbformat_minor": 4
}
