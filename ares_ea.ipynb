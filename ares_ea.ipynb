{
 "cells": [
  {
   "cell_type": "markdown",
   "metadata": {},
   "source": [
    "<h1 style=\"text-align: center; vertical-align: middle;\">Reinforcement learning for focusing and steering tasks</h1>\n",
    "<h2 style=\"text-align: center; vertical-align: middle;\">Use case: ARES linear accelerator at DESY</h2>\n",
    "\n",
    "<h3 style=\"text-align: center; vertical-align: middle;\">Implementation example for RL4AA'23 workshop</h3>\n",
    "\n",
    "<p style=\"text-align: center; vertical-align: middle;\">Jan Kaiser, Chenran Xu, Andrea Santamaria Garcia, Simon Hirländer</p>"
   ]
  },
  {
   "cell_type": "markdown",
   "metadata": {
    "slideshow": {
     "slide_type": "slide"
    }
   },
   "source": [
    "<h2 style=\"color: #b51f2a\">Introduction: ARES</h2>"
   ]
  },
  {
   "cell_type": "markdown",
   "metadata": {},
   "source": [
    "<h2 style=\"color: #b51f2a\">Refresher: the RL problem</h2>\n",
    "<img src=\"img/rl_problem_1.png\" width=\"70%\"/>\n",
    "<img src=\"img/rl_problem_2.png\" width=\"70%\"/>"
   ]
  },
  {
   "cell_type": "markdown",
   "metadata": {},
   "source": [
    "<h2 style=\"color: #b51f2a\">Goal</h2>"
   ]
  },
  {
   "cell_type": "markdown",
   "metadata": {},
   "source": [
    "<h2 style=\"color: #b51f2a\">Actions</h2>\n",
    "<img src=\"img/ares_magnets.png\" width=\"70%\"/>\n",
    "<h3>Dipole magnets</h3>\n",
    "<h3>Quadrupole magnets</h3>"
   ]
  },
  {
   "cell_type": "markdown",
   "metadata": {},
   "source": [
    "<h2 style=\"color: #b51f2a\">Observation</h2>"
   ]
  },
  {
   "cell_type": "markdown",
   "metadata": {},
   "source": [
    "<h2 style=\"color: #b51f2a\">Reward</h2>"
   ]
  },
  {
   "cell_type": "markdown",
   "metadata": {},
   "source": [
    "<h2 style=\"color: #b51f2a\">Environment</h2>"
   ]
  },
  {
   "cell_type": "markdown",
   "metadata": {},
   "source": [
    "<h2 style=\"color: #b51f2a\">Agent</h2>"
   ]
  },
  {
   "cell_type": "code",
   "execution_count": 1,
   "metadata": {},
   "outputs": [],
   "source": [
    "from time import sleep\n",
    "\n",
    "import names\n",
    "import numpy as np\n",
    "from stable_baselines3 import PPO\n",
    "\n",
    "from utils.rl.ea_train import train as train_ares_ea\n",
    "from utils.rl.ea_train import make_env, read_from_yaml\n",
    "from utils.rl.helpers import (\n",
    "    evaluate_ares_ea_agent,\n",
    "    make_ares_ea_training_videos,\n",
    "    plot_ares_ea_training_history,\n",
    "    show_video,\n",
    ")\n",
    "from utils.rl.utils import NotVecNormalize\n"
   ]
  },
  {
   "cell_type": "markdown",
   "metadata": {},
   "source": [
    "Training a good agent revolves primarily around finding the right setup for the environment and the correct reward function. In order to iterate over and compare many different options, our training function takes a dictionary such as the one below.\n",
    "\n",
    "Feel free to change things and see how they might affect the final agents.\n",
    "\n",
    "**Note:** Traing can take a while. The actual function call is therefore commented out and we provide data from a training that we have prepared earlier."
   ]
  },
  {
   "cell_type": "code",
   "execution_count": 2,
   "metadata": {},
   "outputs": [
    {
     "name": "stdout",
     "output_type": "stream",
     "text": [
      "==> Training agent \"Mira Padmore\"\n",
      "Eval num_timesteps=20000, episode_reward=-17.22 +/- 8.29\n",
      "Episode length: 21.20 +/- 7.60\n",
      "New best mean reward!\n",
      "Eval num_timesteps=40000, episode_reward=-5.05 +/- 3.19\n",
      "Episode length: 17.40 +/- 9.31\n",
      "New best mean reward!\n",
      "Eval num_timesteps=60000, episode_reward=-1.28 +/- 1.42\n",
      "Episode length: 7.80 +/- 1.47\n",
      "New best mean reward!\n",
      "Eval num_timesteps=80000, episode_reward=-0.92 +/- 0.75\n",
      "Episode length: 6.60 +/- 0.80\n",
      "New best mean reward!\n",
      "Eval num_timesteps=100000, episode_reward=-1.08 +/- 1.18\n",
      "Episode length: 6.20 +/- 0.40\n",
      "Eval num_timesteps=120000, episode_reward=-1.19 +/- 0.96\n",
      "Episode length: 6.40 +/- 0.49\n",
      "Eval num_timesteps=140000, episode_reward=-0.49 +/- 0.83\n",
      "Episode length: 6.00 +/- 0.00\n",
      "New best mean reward!\n",
      "Eval num_timesteps=160000, episode_reward=-0.94 +/- 0.88\n",
      "Episode length: 6.60 +/- 0.49\n",
      "Eval num_timesteps=180000, episode_reward=-0.30 +/- 0.75\n",
      "Episode length: 6.20 +/- 0.40\n",
      "New best mean reward!\n",
      "Eval num_timesteps=200000, episode_reward=-1.33 +/- 1.08\n",
      "Episode length: 6.00 +/- 0.00\n",
      "Eval num_timesteps=220000, episode_reward=-0.57 +/- 0.93\n",
      "Episode length: 6.00 +/- 0.00\n",
      "Eval num_timesteps=240000, episode_reward=-1.46 +/- 1.10\n",
      "Episode length: 6.00 +/- 0.00\n",
      "Eval num_timesteps=260000, episode_reward=-0.85 +/- 1.04\n",
      "Episode length: 6.00 +/- 0.00\n",
      "Eval num_timesteps=280000, episode_reward=-0.65 +/- 0.98\n",
      "Episode length: 6.00 +/- 0.00\n",
      "Eval num_timesteps=300000, episode_reward=-0.39 +/- 0.87\n",
      "Episode length: 6.00 +/- 0.00\n"
     ]
    }
   ],
   "source": [
    "config = {\n",
    "    # You may set this to \"direct\" or \"delta\". You should find that \"delta\" trains faster.\n",
    "    # Setting \"delta\" is also crucial in running the agent on the real accelerator.\n",
    "    \"action_mode\": \"delta\",\n",
    "    # Batch size of the neural network training in the PPO algorithm\n",
    "    \"batch_size\": 100,\n",
    "    # Set lower to make rewards now more important than rewards later (usually above 0.9)\n",
    "    \"gamma\": 0.99,\n",
    "    # Set to [0,1,3] to only train focusing or to None to train positioning and focusing (hard)\n",
    "    \"filter_action\": [0, 1, 3],\n",
    "    # Setting this to None will include misalignments and incoming beam in the observation.\n",
    "    # Change to [\"beam\",\"magnets\"] for it to be like the real world.\n",
    "    \"filter_observation\": [\"beam\", \"magnets\"],\n",
    "    # Give multiple stacked (over time) observations to the agent. Can help overcome partial observability.\n",
    "    \"frame_stack\": None,\n",
    "    # You can have the magnets always start at the same constant settings during training. This can\n",
    "    # be useful if you know the solution to be near some settings. To achieve this, set \"magnet_init_mode\"\n",
    "    # to \"constant\" and \"magnet_init_values\" to a NumPy array of five values in the order that the magnets\n",
    "    # are passed by the beam. Otherwise set \"magnet_init_mode\" to \"random\" and the magnets will always start\n",
    "    # at different settings.\n",
    "    \"magnet_init_mode\": \"constant\",\n",
    "    \"magnet_init_values\": np.array([10, -10, 0, 10, 0]),\n",
    "    # Set \"misalignment_mode\" to \"constant\" and \"misalignment_values\" to turn misalignments off. Otherwise set\n",
    "    # \"misalignment_mode\" to \"random\".\n",
    "    \"misalignment_mode\": \"constant\",\n",
    "    \"misalignment_values\": np.zeros(8),\n",
    "    # Changes the number of simulations that are trained on concurrently\n",
    "    \"n_envs\": 40,\n",
    "    # Changes the number of steps that data is gathered for from all simulations before training the policy\n",
    "    # in each iteration of the PPO algorithm.\n",
    "    \"n_steps\": 100,\n",
    "    # Normalise observations throughout training by fitting a running mean and standard deviation of them.\n",
    "    \"normalize_observation\": True,\n",
    "    # Normalise rewards throughout training by fitting a running mean and standard deviation of them.\n",
    "    \"normalize_reward\": True,\n",
    "    # Take the limits of the magnet settings and scale them into the following range.\n",
    "    \"rescale_action\": (-3, 3),\n",
    "    # Can be set to \"feedback\" for punishment proportional to distance to target beam (r = negative objective),\n",
    "    # or set to \"delta\" for reward based on improvement of the distance to the\n",
    "    # target beam (r = previous objective - current objective).\n",
    "    \"reward_mode\": \"feedback\",\n",
    "    # Automatically assigns this agent a random name\n",
    "    \"run_name\": names.get_full_name(),\n",
    "    # The following two set the target beam during training to always the perfectly centered and focused as\n",
    "    # small as possible. Set \"target_beam_values\" in order (x, width, y, height) to specialise on a different\n",
    "    # target beam or set \"target_beam_mode\" to \"random\" to generalise over target beams.\n",
    "    \"target_beam_mode\": \"constant\",\n",
    "    \"target_beam_values\": np.zeros(4),\n",
    "    # Threshols for beam parameters. If all beam parameters are within the thresholf from their target,\n",
    "    # episodes end and the agent will stop optimising.\n",
    "    \"target_mu_x_threshold\": np.inf,\n",
    "    \"target_mu_y_threshold\": np.inf,\n",
    "    \"target_sigma_x_threshold\": 1e-4,\n",
    "    \"target_sigma_y_threshold\": 1e-4,\n",
    "    # Number of interactions with the environment that the agent is allowed to traing for.\n",
    "    \"total_timesteps\": 300_000,\n",
    "    # Number of steps that beam parameters must be within threshold for the episode to end. Higher values make\n",
    "    # agnets not just pass by the target, but actually stop.\n",
    "    \"threshold_hold\": 5,\n",
    "    # Number of interactions the agent gets to tune the magnets.\n",
    "    \"time_limit\": 25,\n",
    "    # The following are weights for different rewards the agent gets during training.\n",
    "    \"w_done\": 10.0,  # Reward for being in all thresholds for \"threshold_hold\" steps (success)\n",
    "    \"w_mu_x\": 0.0,  # Weight for x position component of \"direct\" and \"feedback\" reward\n",
    "    \"w_mu_x_in_threshold\": 0.0,  # Bonus given in each step that x position is in threshold\n",
    "    \"w_mu_y\": 0.0,  # Weight for y position component of \"direct\" and \"feedback\" reward\n",
    "    \"w_mu_y_in_threshold\": 0.0,  # Bonus given in each step that y position is in threshold\n",
    "    \"w_on_screen\": 0.0,  # Bonus given in each step that the beam is visible on the screen\n",
    "    \"w_sigma_x\": 1.0,  # Weight for width component of \"direct\" and \"feedback\" reward\n",
    "    \"w_sigma_x_in_threshold\": 0.0,  # Bonus given in each step that width is in threshold\n",
    "    \"w_sigma_y\": 1.0,  # Weight for height component of \"direct\" and \"feedback\" reward\n",
    "    \"w_sigma_y_in_threshold\": 0.0,  # Bonus given in each step that height is in threshold\n",
    "    \"w_time\": 0.0,  # Punishment given each time step (encourages agent to succeed faster)\n",
    "}\n",
    "\n",
    "# Toggle comment to re-run the training (can take very long)\n",
    "train_ares_ea(config)\n"
   ]
  },
  {
   "cell_type": "markdown",
   "metadata": {},
   "source": [
    "As before we can look at the training metrics and check out videos taken at different stages of the training ..."
   ]
  },
  {
   "cell_type": "code",
   "execution_count": 3,
   "metadata": {},
   "outputs": [
    {
     "data": {
      "image/png": "[encoded data removed]",
      "text/plain": [
       "<Figure size 1300x400 with 2 Axes>"
      ]
     },
     "metadata": {},
     "output_type": "display_data"
    }
   ],
   "source": [
    "# Training curves from this training\n",
    "# Change `config[\"run_name\"` to `\"ml_worksop` to see curves from example training.\n",
    "plot_ares_ea_training_history(config[\"run_name\"])\n"
   ]
  },
  {
   "cell_type": "markdown",
   "metadata": {},
   "source": [
    "To look at videos of the agent during training, find the first output line of the training cell. Your agent should have a name (e.g. *Fred Rogers*). Find the subdirectory `utils/rl/ares_ea/recordings/`. There should be a directory for the name of your agent with video files in it. The `ml_workshop` directory contains videos from an example training."
   ]
  },
  {
   "cell_type": "markdown",
   "metadata": {},
   "source": [
    "Run the following cell to evaluate your agent. This is the mean deviation of the beam parameters from the target. Lower results are better.\n",
    "\n",
    "If you are training agents that include the dipoles, set the functions argument `include_position=True`."
   ]
  },
  {
   "cell_type": "code",
   "execution_count": 4,
   "metadata": {},
   "outputs": [
    {
     "name": "stdout",
     "output_type": "stream",
     "text": [
      "==> Achieved a score of 9.27766294901744e-05 (2000 evaluations)\n"
     ]
    }
   ],
   "source": [
    "evaluate_ares_ea_agent(config[\"run_name\"], include_position=False, n=2000)\n"
   ]
  },
  {
   "cell_type": "markdown",
   "metadata": {},
   "source": [
    "We can also test the trained agent on a simulation.\n",
    "\n",
    "If you want to see an example agent instead of the one you just trained, set `agent_name=\"ml_workshop\"`."
   ]
  },
  {
   "cell_type": "code",
   "execution_count": 5,
   "metadata": {},
   "outputs": [],
   "source": [
    "# Run final agent\n",
    "agent_name = config[\"run_name\"]\n",
    "\n",
    "loaded_model = PPO.load(f\"utils/rl/ares_ea/models/{agent_name}/model\")\n",
    "loaded_config = read_from_yaml(f\"utils/rl/ares_ea/models/{agent_name}/config\")\n",
    "\n",
    "env = make_env(loaded_config)\n",
    "env = NotVecNormalize(env, f\"utils/rl/ares_ea/models/{agent_name}/normalizer\")\n",
    "\n",
    "done = False\n",
    "observation = env.reset()\n",
    "while not done:\n",
    "    action, _ = loaded_model.predict(observation)\n",
    "    observation, reward, done, info = env.step(action)\n",
    "    env.render()\n",
    "    sleep(0.5)\n",
    "env.close()\n"
   ]
  },
  {
   "cell_type": "markdown",
   "metadata": {},
   "source": [
    "### Running in the real world\n",
    "\n",
    "Below you can see one of our final trained agents optimising position and focus of the beam on the real ARES accelerator.\n",
    "\n",
    "Keep in mind that this agent has never seen the real accelerator before. All it has ever seen is a very simple linear beam dynamics simulation. Despite that it performs well on the real accelerator where all kinds of other effects come into the mix.\n",
    "\n",
    "Note that this does not happen by itself and is the result of various careful decisions when designing the traiing setup.\n",
    "\n",
    "Once trained, the agent is, however, trivial to use and requires no futher tuning or knowledge of RL."
   ]
  },
  {
   "cell_type": "code",
   "execution_count": 6,
   "metadata": {},
   "outputs": [
    {
     "data": {
      "text/html": [
       "<video src=\"utils/rl/rl-video-episode-1727.mp4\" controls  >\n",
       "      Your browser does not support the <code>video</code> element.\n",
       "    </video>"
      ],
      "text/plain": [
       "<IPython.core.display.Video object>"
      ]
     },
     "execution_count": 6,
     "metadata": {},
     "output_type": "execute_result"
    }
   ],
   "source": [
    "# Show polished donkey running (on real accelerator)\n",
    "show_video(\"utils/rl/rl-video-episode-1727.mp4\")\n"
   ]
  },
  {
   "cell_type": "markdown",
   "metadata": {},
   "source": [
    "## Further Resources\n",
    "\n",
    "### Getting started in RL\n",
    " - [OpenAI Spinning Up](https://spinningup.openai.com/en/latest/index.html) - Very understandable explainations on RL and the most popular algorithms acompanied by easy-to-read Python implementations.\n",
    " - [Reinforcement Learning with Stable Baselines 3](https://youtube.com/playlist?list=PLQVvvaa0QuDf0O2DWwLZBfJeYY-JOeZB1) - YouTube playlist giving a good introduction on RL using Stable Baselines3.\n",
    " - [Build a Doom AI Model with Python](https://youtu.be/eBCU-tqLGfQ) - Detailed 3h tutorial of applying RL using *DOOM* as an example.\n",
    " - [An introduction to Reinforcement Learning](https://youtu.be/JgvyzIkgxF0) - Brief introdution to RL.\n",
    " - [An introduction to Policy Gradient methods - Deep Reinforcement Learning](https://www.youtube.com/watch?v=5P7I-xPq8u8) - Brief introduction to PPO.\n",
    "\n",
    "### Papers\n",
    "\n",
    " - [Learning-based optimisation of particle accelerators under partial observability without real-world training](https://proceedings.mlr.press/v162/kaiser22a.html) - Tuning of electron beam properties on a diagnostic screen using RL.\n",
    " - [Sample-efficient reinforcement learning for CERN accelerator control](https://journals.aps.org/prab/abstract/10.1103/PhysRevAccelBeams.23.124801) - Beam trajectory steering using RL with a focus on sample-efficient training.\n",
    " - [Autonomous control of a particle accelerator using deep reinforcement learning](https://arxiv.org/abs/2010.08141) - Beam transport through a drift tube linac using RL.\n",
    " - [Basic reinforcement learning techniques to control the intensity of a seeded free-electron laser](https://www.mdpi.com/2079-9292/9/5/781/htm) - RL-based laser alignment and drift recovery.\n",
    " - [Real-time artificial intelligence for accelerator control: A study at the Fermilab Booster](https://journals.aps.org/prab/abstract/10.1103/PhysRevAccelBeams.24.104601) - Regulation of a gradient magnet power supply using RL and real-time implementation of the trained agent using field-programmable gate arrays (FPGAs).\n",
    " - [Magnetic control of tokamak plasmas through deep reinforcement learning](https://www.nature.com/articles/s41586-021-04301-9) - Landmark paper on RL for controling a real-world physical system (plasma in a tokamak fusion reactor).\n",
    "\n",
    "### Literature\n",
    " \n",
    " - [Reinforcement Learning: An Introduction](http://incompleteideas.net/book/the-book.html) - Standard text book on RL.\n",
    "\n",
    "### Packages\n",
    " - [Gym](https://www.gymlibrary.ml) - Defacto standard for implementing custom environments. Also provides a library of RL tasks widely used for benchmarking.\n",
    " - [Stable Baslines3](https://github.com/DLR-RM/stable-baselines3) - Provides reliable, benchmarked and easy-to-use implementations of the most important RL algorithms.\n",
    " - [Ray RLlib](https://docs.ray.io/en/latest/rllib/index.html) - Part of the *Ray* Python package providing implementations of various RL algorithms with a focus on distributed training."
   ]
  },
  {
   "cell_type": "code",
   "execution_count": null,
   "metadata": {},
   "outputs": [],
   "source": []
  }
 ],
 "metadata": {
  "celltoolbar": "Slideshow",
  "kernelspec": {
   "display_name": "Python 3 (ipykernel)",
   "language": "python",
   "name": "python3"
  },
  "language_info": {
   "codemirror_mode": {
    "name": "ipython",
    "version": 3
   },
   "file_extension": ".py",
   "mimetype": "text/x-python",
   "name": "python",
   "nbconvert_exporter": "python",
   "pygments_lexer": "ipython3",
   "version": "3.9.15"
  },
  "vscode": {
   "interpreter": {
    "hash": "302035faeb9fa1856ecd229a47c76a4301189e83fc01bb61100b784a4017c7c2"
   }
  }
 },
 "nbformat": 4,
 "nbformat_minor": 4
}
